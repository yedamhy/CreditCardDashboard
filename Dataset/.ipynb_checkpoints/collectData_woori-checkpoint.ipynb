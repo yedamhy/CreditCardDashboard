{
 "cells": [
  {
   "cell_type": "code",
   "execution_count": 38,
   "id": "bff17029",
   "metadata": {},
   "outputs": [],
   "source": [
    "# 카드 홈페이지 url 모음\n",
    "sinhan = 'https://www.shinhancard.com/pconts/html/card/credit/MOBFM281/MOBFM281R11.html?crustMenuId=ms581'\n",
    "kookmin = 'https://card.kbcard.com/CRD/DVIEW/HCAMCXPRICAC0047?pageNo=1&cateIdx=1'\n",
    "samsung = 'https://www.samsungcard.com/home/card/cardinfo/PGHPPDCCardCardinfoRecommendPC001?webViewFirstPage=true'\n",
    "hyindai = 'https://www.hyundaicard.com/cpc/ma/CPCMA0101_01.hc'\n",
    "lotte = 'https://www.lottecard.co.kr/app/LPCDADA_V100.lc'\n",
    "woori = 'https://pc.wooricard.com/dcpc/yh1/crd/crd02/H1CRD202S00.do?ctgrCd=S000017&hiPrdCtgrCd=M110018'\n",
    "hana = 'https://www.hanacard.co.kr/OPI31000000D.web?schID=pcd&mID=OPI31000005P&CT_ID=241704030444153'"
   ]
  },
  {
   "cell_type": "markdown",
   "id": "f6925dd1",
   "metadata": {},
   "source": [
    "# 롯데카드"
   ]
  },
  {
   "cell_type": "markdown",
   "id": "8f2daa8e",
   "metadata": {},
   "source": [
    "## 수집할 정보\n",
    "- 카드 이름\n",
    "- 카드사\n",
    "- 출시 일자\n",
    "- 연회비 정보\n",
    "- 주요 혜택 및 서비스 내용\n",
    "- 제휴 대상\n",
    "- 카드 디자인\n",
    "- 카드 소개 url"
   ]
  },
  {
   "cell_type": "code",
   "execution_count": 39,
   "id": "5d6c9f65",
   "metadata": {},
   "outputs": [],
   "source": [
    "from selenium import webdriver\n",
    "\n",
    "browser = webdriver.Chrome() \n",
    "browser.get(woori)"
   ]
  },
  {
   "cell_type": "code",
   "execution_count": 40,
   "id": "e077e8ea",
   "metadata": {},
   "outputs": [],
   "source": [
    "from bs4 import BeautifulSoup\n",
    "import time\n",
    "soup = BeautifulSoup(browser.page_source, 'html.parser')"
   ]
  },
  {
   "cell_type": "markdown",
   "id": "6c818d47",
   "metadata": {},
   "source": [
    "### 자세히 보기 선택하기"
   ]
  },
  {
   "cell_type": "code",
   "execution_count": 47,
   "id": "d27e6aab",
   "metadata": {},
   "outputs": [
    {
     "name": "stdout",
     "output_type": "stream",
     "text": [
      "https://pc.wooricard.com/webcontent/cdPrdImgFileList/2023/7/17/e7b88886-8706-4bfd-be01-29ec5a77fd19.gif\n"
     ]
    }
   ],
   "source": [
    "company = '우리카드'\n",
    "title = soup.select('#crd02List > li > div > div.cardInfo > h2')[0].text\n",
    "img = soup.select('#cardImg_1 > img')[0]['src']\n",
    "img = 'https://pc.wooricard.com' + img\n",
    "print(img)"
   ]
  },
  {
   "cell_type": "code",
   "execution_count": 52,
   "id": "eae6c7c4",
   "metadata": {},
   "outputs": [
    {
     "name": "stdout",
     "output_type": "stream",
     "text": [
      "카드의정석 EVERY 1\n"
     ]
    }
   ],
   "source": [
    "print(title)"
   ]
  },
  {
   "cell_type": "code",
   "execution_count": 51,
   "id": "b4799c00",
   "metadata": {},
   "outputs": [],
   "source": [
    "card_select = browser.find_elements('css selector', '.btn_i.m')\n",
    "card_select[0].click()"
   ]
  },
  {
   "cell_type": "code",
   "execution_count": null,
   "id": "91c33252",
   "metadata": {},
   "outputs": [],
   "source": []
  },
  {
   "cell_type": "code",
   "execution_count": null,
   "id": "d2eea5ed",
   "metadata": {},
   "outputs": [],
   "source": []
  },
  {
   "cell_type": "code",
   "execution_count": null,
   "id": "86dff1a3",
   "metadata": {},
   "outputs": [],
   "source": []
  },
  {
   "cell_type": "code",
   "execution_count": null,
   "id": "88abce41",
   "metadata": {},
   "outputs": [],
   "source": []
  },
  {
   "cell_type": "code",
   "execution_count": null,
   "id": "99ff8bac",
   "metadata": {},
   "outputs": [],
   "source": []
  },
  {
   "cell_type": "code",
   "execution_count": null,
   "id": "5b590fc2",
   "metadata": {},
   "outputs": [],
   "source": []
  },
  {
   "cell_type": "code",
   "execution_count": 4,
   "id": "172d10fc",
   "metadata": {},
   "outputs": [],
   "source": [
    "card_select = browser.find_elements('css selector', '#ajaxCardList > li > a')\n",
    "card_select[0].click()\n",
    "soup = BeautifulSoup(browser.page_source, 'html.parser')"
   ]
  },
  {
   "cell_type": "code",
   "execution_count": 6,
   "id": "832f1b14",
   "metadata": {},
   "outputs": [],
   "source": [
    "browser.back()\n",
    "soup = BeautifulSoup(browser.page_source, 'html.parser')"
   ]
  },
  {
   "cell_type": "markdown",
   "id": "7eb34ca7",
   "metadata": {},
   "source": [
    "- 회사. 카드이름, 출시일"
   ]
  },
  {
   "cell_type": "code",
   "execution_count": 7,
   "id": "b8edd013",
   "metadata": {},
   "outputs": [],
   "source": [
    "soup = BeautifulSoup(browser.page_source, 'html.parser')\n",
    "company = '롯데카드'\n",
    "title = soup.select('#container > h1')[0].text\n",
    "\n",
    "from selenium.webdriver.common.keys import Keys  \n",
    "body = browser.find_elements('css selector', 'body')[0]\n",
    "body.send_keys(Keys.PAGE_DOWN)\n",
    "body.send_keys(Keys.PAGE_DOWN)\n",
    "body.send_keys(Keys.PAGE_DOWN)\n",
    "soup = BeautifulSoup(browser.page_source, 'html.parser')\n",
    "    \n",
    "date = soup.select('#container > div.inner.cardDtlCont > ul.listDep1.marT30 > li')[-1].text.replace('카드출시일 : ', '')\n",
    "\n",
    "body.send_keys(Keys.PAGE_UP)\n",
    "body.send_keys(Keys.PAGE_UP)\n",
    "body.send_keys(Keys.PAGE_UP)\n",
    "soup = BeautifulSoup(browser.page_source, 'html.parser')"
   ]
  },
  {
   "cell_type": "markdown",
   "id": "a3d73842",
   "metadata": {},
   "source": [
    "- 연회비"
   ]
  },
  {
   "cell_type": "code",
   "execution_count": null,
   "id": "cbb42cc5",
   "metadata": {},
   "outputs": [],
   "source": [
    "soup = BeautifulSoup(browser.page_source, 'html.parser')\n",
    "\n",
    "fee_btn = browser.find_elements('css selector', '#annualBtn')\n",
    "fee_btn[0].click()\n",
    "soup = BeautifulSoup(browser.page_source, 'html.parser')\n",
    "\n",
    "for i in range(len(soup.select('#layer_annual_fee > div.layCont > div > dl'))):\n",
    "    fee_brand = soup.select('#layer_annual_fee > div.layCont > div > dl > dt')[i].text\n",
    "    fee_total_select = soup.select('#layer_annual_fee > div.layCont > div > dl')[i]\n",
    "    fee_total = fee_total_select.select('dd > b')[2].text\n",
    "    print(fee_brand, fee_total)\n",
    "    \n",
    "fee_btn = browser.find_elements('css selector', '#layer_annual_fee > button')\n",
    "fee_btn[0].click()\n",
    "soup = BeautifulSoup(browser.page_source, 'html.parser')"
   ]
  },
  {
   "cell_type": "markdown",
   "id": "09b73810",
   "metadata": {},
   "source": [
    "- 혜택"
   ]
  },
  {
   "cell_type": "code",
   "execution_count": null,
   "id": "95ca259f",
   "metadata": {},
   "outputs": [],
   "source": [
    "benefit_select = soup.select('#container > div.inner.cardDtlCont > div.cardBnfTab > div.bnfCont.smry > ul > li')\n",
    "len(benefit_select)"
   ]
  },
  {
   "cell_type": "code",
   "execution_count": null,
   "id": "9d685287",
   "metadata": {},
   "outputs": [],
   "source": [
    "for i in range(len(benefit_select)):\n",
    "    benfit_select = soup.select('#container > div.inner.cardDtlCont > div.cardBnfTab > div.bnfCont.smry > ul > li')[i]\n",
    "    benefit_title = benfit_select.select('span > b')[0].text\n",
    "    print(benefit_title)\n",
    "    benefit_detail = benfit_select.select('span > span')[0].text\n",
    "    print(benefit_detail)"
   ]
  },
  {
   "cell_type": "markdown",
   "id": "ed65f48e",
   "metadata": {},
   "source": [
    "- 카드 이미지"
   ]
  },
  {
   "cell_type": "code",
   "execution_count": null,
   "id": "e2c47280",
   "metadata": {},
   "outputs": [],
   "source": [
    "image = soup.select('#container > div.topBox.cardDtlTop > div.inner > div.cardImg.typeH > img')[0]['src']\n",
    "image = 'https:' + image\n",
    "print(image)"
   ]
  },
  {
   "cell_type": "markdown",
   "id": "172ed87d",
   "metadata": {},
   "source": [
    "- 카드 페이지 "
   ]
  },
  {
   "cell_type": "code",
   "execution_count": null,
   "id": "9013b985",
   "metadata": {},
   "outputs": [],
   "source": [
    "url = browser.current_url\n",
    "print(url)"
   ]
  },
  {
   "cell_type": "markdown",
   "id": "818df3ed",
   "metadata": {},
   "source": [
    "신한카드 혜택 정보\n",
    "```python\n",
    " # 혜택 정보\n",
    "    for i in range(5):\n",
    "        try:\n",
    "            benefit_select = soup.select('#section08_0 > div > div > div > ul > li')[i]\n",
    "            benefit_title = benefit_select.select('a > div > strong')[0].text.strip()\n",
    "\n",
    "            # \"유의사항\"이 포함된 제목은 건너뜁니다.\n",
    "            if \"유의사항\" in benefit_title:\n",
    "                # 제목 카운터만 증가시킵니다.\n",
    "                benefit_title_counter += 1\n",
    "                continue\n",
    "\n",
    "            # 제목 저장\n",
    "            card_data[f\"benefit_title_{benefit_title_counter}\"] = benefit_title\n",
    "\n",
    "            # 상세 정보 저장\n",
    "            benefit_details = benefit_select.select('a > div > ul > li')\n",
    "            for detail_index in range(2):  # 상세 정보는 최대 2개까지만 저장합니다.\n",
    "                try:\n",
    "                    detail_text = benefit_details[detail_index].text.strip()\n",
    "                    card_data[f\"benefit_detail_{benefit_title_counter}_{detail_index+1}\"] = detail_text\n",
    "                except IndexError:\n",
    "                    card_data[f\"benefit_detail_{benefit_title_counter}_{detail_index+1}\"] = None\n",
    "\n",
    "            # 다음 혜택 제목으로 넘어가기 전에 제목 카운터를 증가시킵니다.\n",
    "            benefit_title_counter += 1\n",
    "\n",
    "        except IndexError:  # 범위를 벗어나는 경우에 대한 처리\n",
    "            break\n",
    "\n",
    "    # 이제 모든 혜택 정보가 순차적으로 card_data에 저장되었습니다.\n",
    "\n",
    "```"
   ]
  },
  {
   "cell_type": "code",
   "execution_count": null,
   "id": "a80ed32b",
   "metadata": {},
   "outputs": [],
   "source": []
  },
  {
   "cell_type": "code",
   "execution_count": null,
   "id": "f8c6bb02",
   "metadata": {},
   "outputs": [],
   "source": []
  },
  {
   "cell_type": "code",
   "execution_count": null,
   "id": "a7110e1a",
   "metadata": {},
   "outputs": [],
   "source": [
    "#ajaxCardList > li:nth-child(1) > a"
   ]
  },
  {
   "cell_type": "code",
   "execution_count": null,
   "id": "895a0870",
   "metadata": {},
   "outputs": [],
   "source": [
    "soup = BeautifulSoup(browser.page_source, 'html.parser')\n",
    "card_select = browser.find_elements('css selector', '#ajaxCardList > li > a')\n",
    "\n",
    "card_select[9].click()"
   ]
  },
  {
   "cell_type": "code",
   "execution_count": 7,
   "id": "dfa7cf07",
   "metadata": {},
   "outputs": [
    {
     "name": "stdout",
     "output_type": "stream",
     "text": [
      "0\n",
      "1\n",
      "2\n",
      "3\n",
      "4\n",
      "5\n",
      "6\n",
      "7\n",
      "8\n",
      "9\n"
     ]
    },
    {
     "ename": "IndexError",
     "evalue": "list index out of range",
     "output_type": "error",
     "traceback": [
      "\u001b[1;31m---------------------------------------------------------------------------\u001b[0m",
      "\u001b[1;31mIndexError\u001b[0m                                Traceback (most recent call last)",
      "\u001b[1;32m~\\AppData\\Local\\Temp/ipykernel_14820/2904014759.py\u001b[0m in \u001b[0;36m<module>\u001b[1;34m\u001b[0m\n\u001b[0;32m      7\u001b[0m     \u001b[1;32mtry\u001b[0m\u001b[1;33m:\u001b[0m\u001b[1;33m\u001b[0m\u001b[1;33m\u001b[0m\u001b[0m\n\u001b[1;32m----> 8\u001b[1;33m         \u001b[0mcard_select\u001b[0m\u001b[1;33m[\u001b[0m\u001b[0mi\u001b[0m\u001b[1;33m]\u001b[0m\u001b[1;33m.\u001b[0m\u001b[0mclick\u001b[0m\u001b[1;33m(\u001b[0m\u001b[1;33m)\u001b[0m\u001b[1;33m\u001b[0m\u001b[1;33m\u001b[0m\u001b[0m\n\u001b[0m\u001b[0;32m      9\u001b[0m         \u001b[0msoup\u001b[0m \u001b[1;33m=\u001b[0m \u001b[0mBeautifulSoup\u001b[0m\u001b[1;33m(\u001b[0m\u001b[0mbrowser\u001b[0m\u001b[1;33m.\u001b[0m\u001b[0mpage_source\u001b[0m\u001b[1;33m,\u001b[0m \u001b[1;34m'html.parser'\u001b[0m\u001b[1;33m)\u001b[0m\u001b[1;33m\u001b[0m\u001b[1;33m\u001b[0m\u001b[0m\n",
      "\u001b[1;31mIndexError\u001b[0m: list index out of range",
      "\nDuring handling of the above exception, another exception occurred:\n",
      "\u001b[1;31mIndexError\u001b[0m                                Traceback (most recent call last)",
      "\u001b[1;32m~\\AppData\\Local\\Temp/ipykernel_14820/2904014759.py\u001b[0m in \u001b[0;36m<module>\u001b[1;34m\u001b[0m\n\u001b[0;32m     10\u001b[0m \u001b[1;33m\u001b[0m\u001b[0m\n\u001b[0;32m     11\u001b[0m     \u001b[1;32mexcept\u001b[0m \u001b[0mIndexError\u001b[0m\u001b[1;33m:\u001b[0m\u001b[1;33m\u001b[0m\u001b[1;33m\u001b[0m\u001b[0m\n\u001b[1;32m---> 12\u001b[1;33m         \u001b[0mbrowser\u001b[0m\u001b[1;33m.\u001b[0m\u001b[0mfind_elements\u001b[0m\u001b[1;33m(\u001b[0m\u001b[1;34m'css selector'\u001b[0m\u001b[1;33m,\u001b[0m \u001b[1;34m'#btnMore'\u001b[0m\u001b[1;33m)\u001b[0m\u001b[1;33m[\u001b[0m\u001b[1;36m0\u001b[0m\u001b[1;33m]\u001b[0m\u001b[1;33m.\u001b[0m\u001b[0mclick\u001b[0m\u001b[1;33m(\u001b[0m\u001b[1;33m)\u001b[0m\u001b[1;33m\u001b[0m\u001b[1;33m\u001b[0m\u001b[0m\n\u001b[0m\u001b[0;32m     13\u001b[0m         \u001b[0msoup\u001b[0m \u001b[1;33m=\u001b[0m \u001b[0mBeautifulSoup\u001b[0m\u001b[1;33m(\u001b[0m\u001b[0mbrowser\u001b[0m\u001b[1;33m.\u001b[0m\u001b[0mpage_source\u001b[0m\u001b[1;33m,\u001b[0m \u001b[1;34m'html.parser'\u001b[0m\u001b[1;33m)\u001b[0m\u001b[1;33m\u001b[0m\u001b[1;33m\u001b[0m\u001b[0m\n\u001b[0;32m     14\u001b[0m         \u001b[0mtime\u001b[0m\u001b[1;33m.\u001b[0m\u001b[0msleep\u001b[0m\u001b[1;33m(\u001b[0m\u001b[1;36m1\u001b[0m\u001b[1;33m)\u001b[0m\u001b[1;33m\u001b[0m\u001b[1;33m\u001b[0m\u001b[0m\n",
      "\u001b[1;31mIndexError\u001b[0m: list index out of range"
     ]
    }
   ],
   "source": [
    "i = 0\n",
    "soup = BeautifulSoup(browser.page_source, 'html.parser')\n",
    "while(True):\n",
    "    soup = BeautifulSoup(browser.page_source, 'html.parser')\n",
    "    card_select = browser.find_elements('css selector', '#ajaxCardList > li > a')\n",
    "\n",
    "    try:\n",
    "        card_select[i].click()\n",
    "        soup = BeautifulSoup(browser.page_source, 'html.parser')\n",
    "        \n",
    "    except IndexError:\n",
    "        browser.find_elements('css selector', '#btnMore')[0].click()\n",
    "        soup = BeautifulSoup(browser.page_source, 'html.parser')\n",
    "        time.sleep(1)\n",
    "        \n",
    "        \n",
    "        soup = BeautifulSoup(browser.page_source, 'html.parser')\n",
    "        card_select = browser.find_elements('css selector', '#ajaxCardList > li > a')\n",
    "        \n",
    "    print(i)\n",
    "    i += 1    \n",
    "    browser.back()\n",
    "    soup = BeautifulSoup(browser.page_source, 'html.parser')"
   ]
  },
  {
   "cell_type": "code",
   "execution_count": 24,
   "id": "e94f0f29",
   "metadata": {},
   "outputs": [
    {
     "name": "stdout",
     "output_type": "stream",
     "text": [
      "1 롯데마트&MAXX 카드\n",
      "2 LOCA LIKIT 1.2\n",
      "3 LOCA in MEGACITY\n",
      "4 LOCA LIKIT Eat\n",
      "5 롤라카드\n",
      "6 LOCA LIKIT Play\n",
      "7 LOCA for Shopping\n",
      "8 LOCA LIKIT Shop\n",
      "9 LOCA 환승 카드\n",
      "10 LOCA LIKIT\n",
      "11 LOCA 나누기 카드\n",
      "12 LOCA 100 카드\n",
      "13 LOCA CLASSIC\n",
      "14  LOCA for Coffee \n",
      "15 LOCA for Auto\n",
      "16 LOCA for Edu\n",
      "17 LOCA for Health\n",
      "18 롯데 국민행복카드\n"
     ]
    },
    {
     "ename": "IndexError",
     "evalue": "list index out of range",
     "output_type": "error",
     "traceback": [
      "\u001b[1;31m---------------------------------------------------------------------------\u001b[0m",
      "\u001b[1;31mIndexError\u001b[0m                                Traceback (most recent call last)",
      "\u001b[1;32m~\\AppData\\Local\\Temp/ipykernel_14820/2650300483.py\u001b[0m in \u001b[0;36m<module>\u001b[1;34m\u001b[0m\n\u001b[0;32m      7\u001b[0m \u001b[1;33m\u001b[0m\u001b[0m\n\u001b[0;32m      8\u001b[0m     \u001b[0msoup\u001b[0m \u001b[1;33m=\u001b[0m \u001b[0mBeautifulSoup\u001b[0m\u001b[1;33m(\u001b[0m\u001b[0mbrowser\u001b[0m\u001b[1;33m.\u001b[0m\u001b[0mpage_source\u001b[0m\u001b[1;33m,\u001b[0m \u001b[1;34m'html.parser'\u001b[0m\u001b[1;33m)\u001b[0m\u001b[1;33m\u001b[0m\u001b[1;33m\u001b[0m\u001b[0m\n\u001b[1;32m----> 9\u001b[1;33m     \u001b[0mcard\u001b[0m \u001b[1;33m=\u001b[0m \u001b[0msoup\u001b[0m\u001b[1;33m.\u001b[0m\u001b[0mselect\u001b[0m\u001b[1;33m(\u001b[0m\u001b[1;34m'#ajaxCardList > li > a > b'\u001b[0m\u001b[1;33m)\u001b[0m\u001b[1;33m[\u001b[0m\u001b[0mi\u001b[0m\u001b[1;33m]\u001b[0m\u001b[1;33m.\u001b[0m\u001b[0mtext\u001b[0m\u001b[1;33m\u001b[0m\u001b[1;33m\u001b[0m\u001b[0m\n\u001b[0m\u001b[0;32m     10\u001b[0m     \u001b[0msoup\u001b[0m \u001b[1;33m=\u001b[0m \u001b[0mBeautifulSoup\u001b[0m\u001b[1;33m(\u001b[0m\u001b[0mbrowser\u001b[0m\u001b[1;33m.\u001b[0m\u001b[0mpage_source\u001b[0m\u001b[1;33m,\u001b[0m \u001b[1;34m'html.parser'\u001b[0m\u001b[1;33m)\u001b[0m\u001b[1;33m\u001b[0m\u001b[1;33m\u001b[0m\u001b[0m\n\u001b[0;32m     11\u001b[0m \u001b[1;33m\u001b[0m\u001b[0m\n",
      "\u001b[1;31mIndexError\u001b[0m: list index out of range"
     ]
    }
   ],
   "source": [
    "from selenium.webdriver.common.keys import Keys\n",
    "from selenium.webdriver.common.by import By\n",
    "\n",
    "\n",
    "i = 0\n",
    "while(True):\n",
    "\n",
    "    soup = BeautifulSoup(browser.page_source, 'html.parser')\n",
    "    card = soup.select('#ajaxCardList > li > a > b')[i].text   \n",
    "    soup = BeautifulSoup(browser.page_source, 'html.parser')\n",
    "\n",
    "        \n",
    "    print(i+1, card)\n",
    "    i += 1    \n",
    "    \n",
    "    if i % 9 == 0 and i > 8:\n",
    "        body = browser.find_elements('css selector', 'body')[0]\n",
    "        body.send_keys(Keys.PAGE_DOWN)\n",
    "        soup = BeautifulSoup(browser.page_source, 'html.parser')\n",
    "        element = browser.find_element(By.ID, \"btnMore\")\n",
    "        element.click()\n",
    "        soup = BeautifulSoup(browser.page_source, 'html.parser')\n",
    "    \n",
    "    soup = BeautifulSoup(browser.page_source, 'html.parser')"
   ]
  },
  {
   "cell_type": "code",
   "execution_count": 28,
   "id": "c23480ca",
   "metadata": {},
   "outputs": [
    {
     "name": "stdout",
     "output_type": "stream",
     "text": [
      "27\n"
     ]
    }
   ],
   "source": [
    "soup = BeautifulSoup(browser.page_source, 'html.parser')\n",
    "card_cnt = soup.select('#form1 > div.cardList > ul > li')\n",
    "print(len(card_cnt))"
   ]
  },
  {
   "cell_type": "code",
   "execution_count": 25,
   "id": "d9ebaa34",
   "metadata": {},
   "outputs": [],
   "source": [
    "browser.find_elements('css selector', '#btnMore')[0].click()\n",
    "soup = BeautifulSoup(browser.page_source, 'html.parser')"
   ]
  },
  {
   "cell_type": "code",
   "execution_count": 22,
   "id": "e8bb014a",
   "metadata": {},
   "outputs": [],
   "source": [
    "body = browser.find_elements('css selector', 'body')[0]\n",
    "body.send_keys(Keys.PAGE_DOWN)\n",
    "body.send_keys(Keys.PAGE_DOWN)\n",
    "body.send_keys(Keys.PAGE_DOWN)\n",
    "body.send_keys(Keys.PAGE_DOWN)\n",
    "        "
   ]
  },
  {
   "cell_type": "code",
   "execution_count": null,
   "id": "dee424f4",
   "metadata": {},
   "outputs": [],
   "source": [
    "\n",
    "soup = BeautifulSoup(browser.page_source, 'html.parser')\n",
    "\n",
    "temp = soup.select('#ajaxCardList > li > a > b')[9].text\n",
    "tempa\n"
   ]
  },
  {
   "cell_type": "code",
   "execution_count": null,
   "id": "874406e2",
   "metadata": {},
   "outputs": [],
   "source": [
    "card_select = browser.find_elements('css selector', '#wrapper > div.modals-container > div > div.vfm__container.vfm--absolute.vfm--inset.vfm--outline-none.bottom-modal > div > div > div.modal-header.has-line > div > button')\n",
    "card_select[0].click()"
   ]
  },
  {
   "cell_type": "code",
   "execution_count": null,
   "id": "c463c2e8",
   "metadata": {},
   "outputs": [],
   "source": [
    "category_select = browser.find_elements('css selector', '#contents > div > section > article > div > div > button')\n",
    "category_select[1].click()\n",
    "soup = BeautifulSoup(browser.page_source, 'html.parser')"
   ]
  },
  {
   "cell_type": "code",
   "execution_count": null,
   "id": "e9deab7e",
   "metadata": {},
   "outputs": [],
   "source": [
    "a = soup.select('#contents > div > section > article > section > div:nth-child(2) > section > ul > li')\n",
    "len(a)"
   ]
  },
  {
   "cell_type": "code",
   "execution_count": null,
   "id": "b7429bd0",
   "metadata": {},
   "outputs": [],
   "source": [
    "card_select = browser.find_elements('css selector', '#contents > div > section > article > section > div:nth-child(2) > section > ul > li')\n",
    "card_select[0].click()\n",
    "soup = BeautifulSoup(browser.page_source, 'html.parser')"
   ]
  },
  {
   "cell_type": "markdown",
   "id": "fa215a7a",
   "metadata": {},
   "source": [
    "- 회사, 카드이름, 출시일"
   ]
  },
  {
   "cell_type": "code",
   "execution_count": null,
   "id": "95fc4e0e",
   "metadata": {},
   "outputs": [],
   "source": [
    "soup = BeautifulSoup(browser.page_source, 'html.parser')\n",
    "company = '삼성카드'\n",
    "name = soup.select('#contents > div > section > div.lists-card > div.card-tx > p')[0].text\n",
    "date = soup.select('#sellStrtdt')[0].text"
   ]
  },
  {
   "cell_type": "markdown",
   "id": "534aa24a",
   "metadata": {},
   "source": [
    "- 연회비"
   ]
  },
  {
   "cell_type": "code",
   "execution_count": null,
   "id": "2c27ff6e",
   "metadata": {},
   "outputs": [],
   "source": [
    "fee_select = browser.find_elements('css selector', '#contents > div > section > div.lists-card > div.card-container > div > button')\n",
    "fee_select[0].click()\n",
    "soup = BeautifulSoup(browser.page_source, 'html.parser')"
   ]
  },
  {
   "cell_type": "code",
   "execution_count": null,
   "id": "085e9244",
   "metadata": {},
   "outputs": [],
   "source": [
    "soup = BeautifulSoup(browser.page_source, 'html.parser')\n",
    "fee = soup.select('#wrapper > div.modals-container > div > div.vfm__container.vfm--absolute.vfm--inset.vfm--outline-none.bottom-modal > div > div > article > div > div > article > div:nth-child(2) > div.table_col.multiple > table > thead > tr > th')\n",
    "for i in range(len(fee) - 1):\n",
    "    fee_title = soup.select('#wrapper > div.modals-container > div > div.vfm__container.vfm--absolute.vfm--inset.vfm--outline-none.bottom-modal > div > div > article > div > div > article > div:nth-child(2) > div.table_col.multiple > table > thead > tr > th')[i+1].text\n",
    "    fee_total = soup.select('#wrapper > div.modals-container > div > div.vfm__container.vfm--absolute.vfm--inset.vfm--outline-none.bottom-modal > div > div > article > div > div > article > div:nth-child(2) > div.table_col.multiple > table > tbody > tr:nth-child(1) > td')[i].text\n",
    "    print(fee_title, fee_total)"
   ]
  },
  {
   "cell_type": "code",
   "execution_count": null,
   "id": "e929af84",
   "metadata": {},
   "outputs": [],
   "source": [
    "fee_select = browser.find_elements('css selector', '#wrapper > div.modals-container > div > div.vfm__container.vfm--absolute.vfm--inset.vfm--outline-none.bottom-modal > div > div > div.modal-header.has-line > div > button')\n",
    "fee_select[0].click()\n",
    "soup = BeautifulSoup(browser.page_source, 'html.parser')"
   ]
  },
  {
   "cell_type": "markdown",
   "id": "8b9ea843",
   "metadata": {},
   "source": [
    "- 혜택"
   ]
  },
  {
   "cell_type": "code",
   "execution_count": null,
   "id": "392e28a8",
   "metadata": {},
   "outputs": [],
   "source": [
    "soup = BeautifulSoup(browser.page_source, 'html.parser')\n",
    "benefit_select = soup.select('#contents > div > section:nth-child(1) > article > section > div:nth-child(1) > section > section > ul')\n",
    "\n",
    "for i in range(len(benefit_select)):\n",
    "    benefit = benefit_select[i].text\n",
    "    print(benefit)"
   ]
  },
  {
   "cell_type": "markdown",
   "id": "ce7ee560",
   "metadata": {},
   "source": [
    "- 카드 디자인"
   ]
  },
  {
   "cell_type": "code",
   "execution_count": null,
   "id": "61ea5c38",
   "metadata": {},
   "outputs": [],
   "source": [
    "image_select = soup.select('#contents > div > section:nth-child(1) > div.lists-card > div.card-container > figure > div:nth-child(2) > img')\n",
    "image = image_select[0]['src']\n",
    "print(image)"
   ]
  },
  {
   "cell_type": "markdown",
   "id": "ed2ada3b",
   "metadata": {},
   "source": [
    "- 카드 상세 주소"
   ]
  },
  {
   "cell_type": "code",
   "execution_count": null,
   "id": "426a70ab",
   "metadata": {},
   "outputs": [],
   "source": [
    "url = browser.current_url\n",
    "print(url)"
   ]
  },
  {
   "cell_type": "code",
   "execution_count": null,
   "id": "f2008fdd",
   "metadata": {},
   "outputs": [],
   "source": [
    "browser.back()\n",
    "soup = BeautifulSoup(browser.page_source, 'html.parser')"
   ]
  },
  {
   "cell_type": "code",
   "execution_count": null,
   "id": "12d53bb1",
   "metadata": {},
   "outputs": [],
   "source": [
    "import time\n",
    "browser.get('https://www.samsungcard.com/home/card/cardinfo/PGHPPDCCardCardinfoRecommendPC001?webViewFirstPage=true')\n",
    "soup = BeautifulSoup(browser.page_source, 'html.parser')\n",
    "\n",
    "category_select = browser.find_elements('css selector', '#contents > div > section > article > div > div > button')\n",
    "category_select[1].click()\n",
    "soup = BeautifulSoup(browser.page_source, 'html.parser')\n",
    "\n",
    "now_card_cnt = len(soup.select('#contents > div > section > article > section > div:nth-child(2) > section > ul > li'))\n",
    "soup = BeautifulSoup(browser.page_source, 'html.parser')"
   ]
  },
  {
   "cell_type": "code",
   "execution_count": null,
   "id": "ebdb1b0b",
   "metadata": {},
   "outputs": [],
   "source": [
    "for i in range(now_card_cnt):\n",
    "    browser.get('https://www.samsungcard.com/home/card/cardinfo/PGHPPDCCardCardinfoRecommendPC001?webViewFirstPage=true')\n",
    "    soup = BeautifulSoup(browser.page_source, 'html.parser')\n",
    "    \n",
    "    category_select = browser.find_elements('css selector', '#contents > div > section > article > div > div > button')\n",
    "    soup = BeautifulSoup(browser.page_source, 'html.parser')\n",
    "    category_select[1].click()\n",
    "    soup = BeautifulSoup(browser.page_source, 'html.parser')\n",
    "    \n",
    "    card_select = browser.find_elements('css selector', '#contents > div > section > article > section > div:nth-child(2) > section > ul > li')\n",
    "    card_select[i].click()\n",
    "    soup = BeautifulSoup(browser.page_source, 'html.parser')\n",
    "    \n",
    "    soup = BeautifulSoup(browser.page_source, 'html.parser')\n",
    "    # 회사, 카드이름, 출시일 \n",
    "    company = '삼성카드'\n",
    "    name = soup.select('#contents > div > section > div.lists-card > div.card-tx > p')[0].text\n",
    "    \n",
    "    from selenium.webdriver.common.keys import Keys  \n",
    "    body = browser.find_elements('css selector', 'body')[0]\n",
    "    body.send_keys(Keys.PAGE_DOWN)\n",
    "    body.send_keys(Keys.PAGE_DOWN)\n",
    "    body.send_keys(Keys.PAGE_DOWN)\n",
    "    soup = BeautifulSoup(browser.page_source, 'html.parser')\n",
    "\n",
    "    date = soup.select('#sellStrtdt')[0].text\n",
    "    time.sleep(0.5)\n",
    "    body.send_keys(Keys.PAGE_UP)\n",
    "    body.send_keys(Keys.PAGE_UP)\n",
    "    body.send_keys(Keys.PAGE_UP)\n",
    "    soup = BeautifulSoup(browser.page_source, 'html.parser')\n",
    "    \n",
    "    soup = BeautifulSoup(browser.page_source, 'html.parser')\n",
    "\n",
    "    # 연회비\n",
    "    fee_select = browser.find_elements('css selector', '#contents > div > section > div.lists-card > div.card-container > div > button')\n",
    "    fee_select[0].click()\n",
    "    soup = BeautifulSoup(browser.page_source, 'html.parser')\n",
    "    \n",
    "    soup = BeautifulSoup(browser.page_source, 'html.parser')\n",
    "    fee = soup.select('#wrapper > div.modals-container > div > div.vfm__container.vfm--absolute.vfm--inset.vfm--outline-none.bottom-modal > div > div > article > div > div > article > div:nth-child(2) > div.table_col.multiple > table > thead > tr > th')\n",
    "    for j in range(len(fee) - 1):\n",
    "        fee_title = soup.select('#wrapper > div.modals-container > div > div.vfm__container.vfm--absolute.vfm--inset.vfm--outline-none.bottom-modal > div > div > article > div > div > article > div:nth-child(2) > div.table_col.multiple > table > thead > tr > th')[j+1].text\n",
    "        fee_total = soup.select('#wrapper > div.modals-container > div > div.vfm__container.vfm--absolute.vfm--inset.vfm--outline-none.bottom-modal > div > div > article > div > div > article > div:nth-child(2) > div.table_col.multiple > table > tbody > tr:nth-child(1) > td')[j].text\n",
    "       \n",
    "    fee_select = browser.find_elements('css selector', '#wrapper > div.modals-container > div > div.vfm__container.vfm--absolute.vfm--inset.vfm--outline-none.bottom-modal > div > div > div.modal-header.has-line > div > button')\n",
    "    fee_select[0].click()\n",
    "    soup = BeautifulSoup(browser.page_source, 'html.parser')\n",
    "    \n",
    "    # 혜택\n",
    "    soup = BeautifulSoup(browser.page_source, 'html.parser')\n",
    "    benefit_select = soup.select('#contents > div > section:nth-child(1) > article > section > div:nth-child(1) > section > section > ul')\n",
    "\n",
    "    for p in range(len(benefit_select)):\n",
    "        benefit = benefit_select[p].text\n",
    "\n",
    "        \n",
    "    # 이미지\n",
    "    try: \n",
    "        image_select = soup.select('#contents > div > section:nth-child(1) > div.lists-card > div.card-container > figure > div:nth-child(2) > img')\n",
    "        image = image_select[0]['src']\n",
    "    except IndexError:\n",
    "        image = \" \"\n",
    "    # 상세 주소\n",
    "    url = browser.current_url\n",
    "    \n",
    "    print(name)\n",
    "    print(date, fee_title, fee_total, benefit)\n",
    "    time.sleep(1)\n",
    "\n",
    "    soup = BeautifulSoup(browser.page_source, 'html.parser')"
   ]
  },
  {
   "cell_type": "code",
   "execution_count": null,
   "id": "750b1007",
   "metadata": {},
   "outputs": [],
   "source": [
    "soup = BeautifulSoup(browser.page_source, 'html.parser')\n",
    "image_select = soup.select('#contents > div > section > div.lists-card > div.card-container > figure > div> img')\n",
    "image_select"
   ]
  },
  {
   "cell_type": "code",
   "execution_count": null,
   "id": "d5c9a803",
   "metadata": {},
   "outputs": [],
   "source": []
  },
  {
   "cell_type": "code",
   "execution_count": null,
   "id": "24465702",
   "metadata": {},
   "outputs": [],
   "source": []
  },
  {
   "cell_type": "code",
   "execution_count": null,
   "id": "22b2fe94",
   "metadata": {},
   "outputs": [],
   "source": []
  },
  {
   "cell_type": "code",
   "execution_count": null,
   "id": "3893b91d",
   "metadata": {},
   "outputs": [],
   "source": [
    "import time\n",
    "from selenium.webdriver.common.keys import Keys\n",
    "\n",
    "body = browser.find_elements('css selector', 'body')[0]\n",
    "soup = BeautifulSoup(browser.page_source, 'html.parser')\n",
    "\n",
    "card_list = soup.select('#section01_1 > div > div > ul > li')\n",
    "print(len(card_list))\n",
    "print()\n",
    "\n",
    "max_len_fee = 0\n",
    "max_len_benefit = 0\n",
    "for card_i in range(len(card_list)):\n",
    "    time.sleep(1)\n",
    "\n",
    "    card_select = browser.find_elements('css selector', '#section01_1 > div > div > ul > li')\n",
    "    card_select[card_i].click()\n",
    "    \n",
    "    soup = BeautifulSoup(browser.page_source, 'html.parser')\n",
    "    time.sleep(1)\n",
    "    soup = BeautifulSoup(browser.page_source, 'html.parser')\n",
    "    # 카드 이름 수집\n",
    "\n",
    "    company = soup.select('#container > section > div.bg_gray > div > div.card_jun_info > ul > li')[0].text.replace(\"회사명 : \", \"\")\n",
    "    name = soup.select('#container > section > div.bg_gray > div > div.card_jun_info > ul > li')[1].text.replace(\"상품명 : \", \"\")\n",
    "    date = soup.select('#container > section > div.bg_gray > div > div.card_jun_info > ul > li')[2].text.replace('카드 출시 일자 : ', '')\n",
    "\n",
    "    # 연회비 정보 수집\n",
    "    annual_fee_len = len(soup.select('#acc0 > div > div > table > tbody > tr'))\n",
    "    if max_len_fee < annual_fee_len:\n",
    "        max_len_fee = annual_fee_len\n",
    "        \n",
    "    for i in range(annual_fee_len):\n",
    "        fee_select = soup.select('#acc0 > div > div > table > tbody > tr')[i]\n",
    "        fee_brand_select = fee_select.select('span > img')\n",
    "        fee_brand = fee_brand_select[0]['alt']\n",
    "        fee_option = fee_select.select('td')[1].text\n",
    "        basic_fee = fee_select.select('td')[2].text\n",
    "        service_fee = fee_select.select('td')[3].text\n",
    "        total_fee = fee_select.select('td')[4].text\n",
    "\n",
    "    # 혜택 정보 수집\n",
    "    len_benefit = len(soup.select('#section08_0 > div > div > div > ul > li'))\n",
    "    \n",
    "    if max_len_benefit < len_benefit:\n",
    "        max_len_benefit = len_benefit\n",
    "    for i in range(len_benefit):\n",
    "        benefit_select = soup.select('#section08_0 > div > div > div > ul > li')[i]\n",
    "        benefit_title = benefit_select.select('a > div > strong')[0].text\n",
    "        len_benefit_detail = len(benefit_select.select('a > div > ul > li'))\n",
    "        benefit = []\n",
    "        if len_benefit_detail > 0:\n",
    "            for j in range(len_benefit_detail):\n",
    "                benefit.append(benefit_select.select('a > div > ul > li')[j].text)\n",
    "        else:\n",
    "                benefit.append(benefit_select.select('a > div > p')[0].text)\n",
    "\n",
    "    # 이미지 url\n",
    "    image = soup.select('#cardCompareAfter > div.card_detail.gap80_40 > div> div > div > div > img')[0]['src']\n",
    "    url = soup.select('head > link')[0]['href']\n",
    "\n",
    "    print(card_i+1, name)\n",
    "\n",
    "    browser.back()\n",
    "    soup = BeautifulSoup(browser.page_source, 'html.parser')\n",
    "    if card_i%6 == 5:\n",
    "        body.send_keys(Keys.PAGE_DOWN)\n",
    "        \n",
    "print('연회비 조건 최대 개수 : ', max_len_fee)\n",
    "print('서비스 title 최대 개수 : ', max_len_benefit)"
   ]
  },
  {
   "cell_type": "code",
   "execution_count": null,
   "id": "9c700ce8",
   "metadata": {},
   "outputs": [],
   "source": [
    "import pandas as pd\n",
    "import time\n",
    "from selenium.webdriver.common.keys import Keys\n",
    "\n",
    "# 빈 리스트들 초기화\n",
    "data_list = []\n",
    "\n",
    "body = browser.find_elements('css selector', 'body')[0]\n",
    "soup = BeautifulSoup(browser.page_source, 'html.parser')\n",
    "\n",
    "card_list = soup.select('#section01_1 > div > div > ul > li')\n",
    "\n",
    "for card_i in range(len(card_list)):\n",
    "    time.sleep(1)\n",
    "\n",
    "    card_select = browser.find_elements('css selector', '#section01_1 > div > div > ul > li')\n",
    "    card_select[card_i].click()\n",
    "    \n",
    "    soup = BeautifulSoup(browser.page_source, 'html.parser')\n",
    "    time.sleep(1)\n",
    "    soup = BeautifulSoup(browser.page_source, 'html.parser')\n",
    "\n",
    "    card_data = {}\n",
    "    \n",
    "\n",
    "    card_data[\"company\"] = soup.select('#container > section > div.bg_gray > div > div.card_jun_info > ul > li')[0].text.replace(\"회사명 : \", \"\")\n",
    "    card_data[\"name\"] = soup.select('#container > section > div.bg_gray > div > div.card_jun_info > ul > li')[1].text.replace(\"상품명 : \", \"\")\n",
    "    card_data[\"date\"] = soup.select('#container > section > div.bg_gray > div > div.card_jun_info > ul > li')[2].text.replace('카드 출시 일자 : ', '')\n",
    "\n",
    "    \n",
    "    # 연회비 정보\n",
    "    for i in range(8):\n",
    "        try:\n",
    "            fee_select = soup.select('#acc0 > div > div > table > tbody > tr')[i]\n",
    "            card_data[f\"fee_brand_{i+1}\"] = fee_select.select('span > img')[0]['alt']\n",
    "            card_data[f\"fee_option_{i+1}\"] = fee_select.select('td')[1].text\n",
    "            card_data[f\"basic_fee_{i+1}\"] = fee_select.select('td')[2].text\n",
    "            card_data[f\"service_fee_{i+1}\"] = fee_select.select('td')[3].text\n",
    "            card_data[f\"total_fee_{i+1}\"] = fee_select.select('td')[4].text\n",
    "        except IndexError:\n",
    "            card_data[f\"fee_brand_{i+1}\"] = None\n",
    "            card_data[f\"fee_option_{i+1}\"] = None\n",
    "            card_data[f\"basic_fee_{i+1}\"] = None\n",
    "            card_data[f\"service_fee_{i+1}\"] = None\n",
    "            card_data[f\"total_fee_{i+1}\"] = None\n",
    "\n",
    "    # 혜택 정보\n",
    "    # 혜택 정보\n",
    "    for i in range(13):\n",
    "        try:\n",
    "            benefit_select = soup.select('#section08_0 > div > div > div > ul > li')[i]\n",
    "            card_data[f\"benefit_title_{i+1}\"] = benefit_select.select('a > div > strong')[0].text\n",
    "            len_benefit_detail = len(benefit_select.select('a > div > ul > li'))\n",
    "            if len_benefit_detail > 0:\n",
    "                for j in range(4):  # 최대 4개의 혜택 상세 정보를 고려합니다.\n",
    "                    try:\n",
    "                        card_data[f\"benefit_detail_{i+1}_{j+1}\"] = benefit_select.select('a > div > ul > li')[j].text\n",
    "                    except IndexError:\n",
    "                        card_data[f\"benefit_detail_{i+1}_{j+1}\"] = None\n",
    "            else:\n",
    "                card_data[f\"benefit_detail_{i+1}_1\"] = benefit_select.select('a > div > p')[0].text\n",
    "                for j in range(1, 4):  # 나머지 3개의 혜택 상세 정보는 None으로 설정합니다.\n",
    "                    card_data[f\"benefit_detail_{i+1}_{j+1}\"] = None\n",
    "        except IndexError:\n",
    "            card_data[f\"benefit_title_{i+1}\"] = None\n",
    "            for j in range(4):\n",
    "                card_data[f\"benefit_detail_{i+1}_{j+1}\"] = None\n",
    "\n",
    "\n",
    "    card_data[\"image\"] = soup.select('#cardCompareAfter > div.card_detail.gap80_40 > div> div > div > div > img')[0]['src']\n",
    "    card_data[\"url\"] = soup.select('head > link')[0]['href']\n",
    "\n",
    "    data_list.append(card_data)\n",
    "    print(card_i+1, \"저장 완료\")\n",
    "\n",
    "    browser.back()\n",
    "    soup = BeautifulSoup(browser.page_source, 'html.parser')\n",
    "    if card_i%6 == 5:\n",
    "        body.send_keys(Keys.PAGE_DOWN)\n",
    "        \n",
    "    \n",
    "    \n",
    "df = pd.DataFrame(data_list)\n"
   ]
  },
  {
   "cell_type": "code",
   "execution_count": null,
   "id": "307f902f",
   "metadata": {},
   "outputs": [],
   "source": [
    "df = pd.DataFrame(data_list)\n",
    "df.head()"
   ]
  },
  {
   "cell_type": "code",
   "execution_count": null,
   "id": "a0547ea4",
   "metadata": {},
   "outputs": [],
   "source": [
    "df.to_csv('sinhan.csv', index=False)"
   ]
  },
  {
   "cell_type": "code",
   "execution_count": null,
   "id": "20696357",
   "metadata": {},
   "outputs": [],
   "source": [
    "from selenium.webdriver.common.keys import Keys  \n",
    "body = browser.find_elements('css selector', 'body')[0]\n",
    "body.send_keys(Keys.PAGE_DOWN)\n"
   ]
  },
  {
   "cell_type": "code",
   "execution_count": null,
   "id": "0e7446b8",
   "metadata": {},
   "outputs": [],
   "source": [
    "body.send_keys(Keys.PAGE_UP)"
   ]
  },
  {
   "cell_type": "code",
   "execution_count": null,
   "id": "6e49b752",
   "metadata": {},
   "outputs": [],
   "source": []
  }
 ],
 "metadata": {
  "kernelspec": {
   "display_name": "Python 3 (ipykernel)",
   "language": "python",
   "name": "python3"
  },
  "language_info": {
   "codemirror_mode": {
    "name": "ipython",
    "version": 3
   },
   "file_extension": ".py",
   "mimetype": "text/x-python",
   "name": "python",
   "nbconvert_exporter": "python",
   "pygments_lexer": "ipython3",
   "version": "3.9.7"
  }
 },
 "nbformat": 4,
 "nbformat_minor": 5
}
