{
 "cells": [
  {
   "cell_type": "code",
   "execution_count": 1,
   "id": "bff17029",
   "metadata": {},
   "outputs": [],
   "source": [
    "# 카드 홈페이지 url 모음\n",
    "sinhan = 'https://www.shinhancard.com/pconts/html/card/credit/MOBFM281/MOBFM281R11.html?crustMenuId=ms581'\n",
    "kookmin = 'https://card.kbcard.com/CRD/DVIEW/HCAMCXPRICAC0047?pageNo=1&cateIdx=1'\n",
    "samsung = 'https://www.samsungcard.com/home/card/cardinfo/PGHPPDCCardCardinfoRecommendPC001?webViewFirstPage=true'\n",
    "hyindai = 'https://www.hyundaicard.com/cpc/ma/CPCMA0101_01.hc'\n",
    "lotte = 'https://www.lottecard.co.kr/app/LPCDADA_V100.lc'\n",
    "woori = 'https://pc.wooricard.com/dcpc/yh1/crd/crd02/H1CRD202S00.do?ctgrCd=S000017&hiPrdCtgrCd=M110018'\n",
    "hana = 'https://www.hanacard.co.kr/OPI31000000D.web?schID=pcd&mID=OPI31000005P&CT_ID=241704030444153'"
   ]
  },
  {
   "cell_type": "markdown",
   "id": "f6925dd1",
   "metadata": {},
   "source": [
    "# 신한카드"
   ]
  },
  {
   "cell_type": "markdown",
   "id": "8f2daa8e",
   "metadata": {},
   "source": [
    "## 수집할 정보\n",
    "- 카드 이름\n",
    "- 카드사\n",
    "- 출시 일자\n",
    "- 연회비 정보\n",
    "- 주요 혜택 및 서비스 내용\n",
    "- 제휴 대상\n",
    "- 카드 디자인\n",
    "- 카드 소개 url"
   ]
  },
  {
   "cell_type": "code",
   "execution_count": null,
   "id": "5d6c9f65",
   "metadata": {},
   "outputs": [],
   "source": [
    "from selenium import webdriver\n",
    "\n",
    "browser = webdriver.Chrome() browser.get(sinhan)"
   ]
  },
  {
   "cell_type": "code",
   "execution_count": 3,
   "id": "e077e8ea",
   "metadata": {},
   "outputs": [],
   "source": [
    "from bs4 import BeautifulSoup\n",
    "\n",
    "soup = BeautifulSoup(browser.page_source, 'html.parser')"
   ]
  },
  {
   "cell_type": "code",
   "execution_count": 6,
   "id": "90e0b235",
   "metadata": {},
   "outputs": [
    {
     "data": {
      "text/plain": [
       "93"
      ]
     },
     "execution_count": 6,
     "metadata": {},
     "output_type": "execute_result"
    }
   ],
   "source": [
    "card_list = soup.select('#section01_1 > div > div > ul > li')\n",
    "len(card_list)"
   ]
  },
  {
   "cell_type": "code",
   "execution_count": 13,
   "id": "b7c68f2e",
   "metadata": {},
   "outputs": [
    {
     "name": "stdout",
     "output_type": "stream",
     "text": [
      "신한카드 봄\n"
     ]
    }
   ],
   "source": [
    "# 카드 이름 먼저 출력해보자!\n",
    "card_name_list = card_list[0].select('div> a.card_name')[0].text\n",
    "print(card_name_list)"
   ]
  },
  {
   "cell_type": "code",
   "execution_count": 14,
   "id": "249e3415",
   "metadata": {},
   "outputs": [
    {
     "data": {
      "text/plain": [
       "['신한카드 봄',\n",
       " '신한카드 봄(도구리)',\n",
       " '신한카드 Globus',\n",
       " '신한카드 플리',\n",
       " '신한카드 플리(산리오캐릭터즈)',\n",
       " '신한카드 핏(Fit)',\n",
       " '신한카드 EVerywhere',\n",
       " '신한카드 Eats More(곰표)',\n",
       " '신한카드 Eats More(이츠모아)',\n",
       " '신한카드 Unboxing',\n",
       " '신한카드 래플(Raffle)',\n",
       " '신한카드 Deep Dream(모베러웍스)',\n",
       " '신한카드 구독 좋아요',\n",
       " '신한카드 Puzzle',\n",
       " '#Pay 신한카드',\n",
       " '신한카드 알뜰More(알뜰모아)',\n",
       " '위버스 신한카드(BTS)',\n",
       " '신한카드 Deep Oil',\n",
       " '수소차 충전할인 신한카드',\n",
       " '티머니 Pay & GO 신한카드 ',\n",
       " '아시아나 신한카드 Air 1.5',\n",
       " '신한카드 MY CAR',\n",
       " '신한카드 국민행복',\n",
       " 'IKEA for Business with 신한카드',\n",
       " '신한카드 YaY',\n",
       " '신한카드 My TeenS',\n",
       " '신한카드 RPM+ Platinum#',\n",
       " '신한카드 Air One',\n",
       " '신한카드 혼디모앙',\n",
       " '땡겨요 신한카드',\n",
       " '신한카드 Deep Dream',\n",
       " '신한카드 Deep Dream Platinum+',\n",
       " '신한카드 Deep Store',\n",
       " '신한카드 Deep Making',\n",
       " '신한카드 Deep Taking',\n",
       " '신한카드 Deep On Platinum+',\n",
       " '신한카드 Deep Once',\n",
       " '신한카드 Deep Once Plus',\n",
       " '신한카드 YOLO ⓘ',\n",
       " '신한카드 B.Big(삑)',\n",
       " '신한카드 Mr.Life',\n",
       " '신한카드 Hi-Point',\n",
       " '신한카드 Simple+',\n",
       " '신한카드 Shopping',\n",
       " '신한 햇살론카드',\n",
       " '신한카드 Edu',\n",
       " '신한카드 주거래 신용',\n",
       " '신한카드 Air Platinum#',\n",
       " '신한카드 Lesson Platinum#',\n",
       " '신한카드 Simple Platinum#',\n",
       " '신한카드 Cube Platinum #',\n",
       " '신한카드 Love Platinum#',\n",
       " 'GS칼텍스 신한카드 Shine',\n",
       " '신한카드 후불하이패스+ (하이패스 전용)',\n",
       " '신한카드 후불하이패스+(SIM형)',\n",
       " '(배민커넥트) 신한카드 Deep Oil 카드',\n",
       " 'BC 부자되세요 홈쇼핑 신한카드',\n",
       " '신한카드 아름다운',\n",
       " '신한카드 아이행복',\n",
       " '신한카드 Ownership',\n",
       " 'E1 개인택시운송사업자 신한카드',\n",
       " '신한카드 경차사랑 Life',\n",
       " '신한카드 Hi-Point MyShop',\n",
       " '신한카드 EV',\n",
       " '신한카드 Hi-Point MyShop PLATINUM#',\n",
       " '청년동행 신한카드 B.Big(삑)',\n",
       " '큰수레 비즈니스 신한카드 Simple+',\n",
       " '신한카드 집',\n",
       " '국세청 복지 GS칼텍스 신한카드 Shine',\n",
       " '국세청 복지 신한카드 Lady',\n",
       " '공무원연금복지 GS칼텍스 신한카드 Shine',\n",
       " '공무원연금복지 SK에너지 신한카드 Oiling',\n",
       " '장애인 통합복지 신한카드 2030',\n",
       " '장애인 통합복지 신한카드 Lady',\n",
       " '신한카드 Shopping(한국유치원총연합회 교원증)',\n",
       " '대한치과위생사협회 신한카드 Lady',\n",
       " '대한치과위생사협회 GS칼텍스 신한카드 BigPlus',\n",
       " '알뜰교통 신한카드',\n",
       " 'SK55 화물복지 신한카드',\n",
       " '화물운전자복지 신한카드',\n",
       " 'SK에너지 2MORE 화물복지 신한카드',\n",
       " '알뜰주유소 화물운전자복지 신한카드',\n",
       " 'HD현대오일뱅크 2UP 화물운전자복지 신한카드',\n",
       " 'S-OIL 2UP 화물운전자복지 신한카드',\n",
       " '노란우산 신한카드',\n",
       " '개인택시운송자사업자 신한카드 T-플러스',\n",
       " 'S.Sing 씽화물복지 신한카드',\n",
       " '외식가족공제 신한카드 Hi-point MyShop',\n",
       " '교직원복지 신한카드 LOVE',\n",
       " '한국수력원자력 임직원복지 신한카드 LOVE',\n",
       " 'SK One+ 화물복지 신한카드',\n",
       " '부산가족사랑 GS칼텍스 신한카드 Shine',\n",
       " '119 소방사랑 GS칼텍스 신한카드 Big Plus']"
      ]
     },
     "execution_count": 14,
     "metadata": {},
     "output_type": "execute_result"
    }
   ],
   "source": [
    "card_name_list = []\n",
    "for card in card_list:\n",
    "    card_name = card.select('div > a.card_name')[0].text\n",
    "    card_name_list.append(card_name)\n",
    "    \n",
    "card_name_list"
   ]
  },
  {
   "cell_type": "code",
   "execution_count": null,
   "id": "925fb59b",
   "metadata": {},
   "outputs": [],
   "source": []
  }
 ],
 "metadata": {
  "kernelspec": {
   "display_name": "Python 3 (ipykernel)",
   "language": "python",
   "name": "python3"
  },
  "language_info": {
   "codemirror_mode": {
    "name": "ipython",
    "version": 3
   },
   "file_extension": ".py",
   "mimetype": "text/x-python",
   "name": "python",
   "nbconvert_exporter": "python",
   "pygments_lexer": "ipython3",
   "version": "3.11.4"
  }
 },
 "nbformat": 4,
 "nbformat_minor": 5
}
